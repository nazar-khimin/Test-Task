{
 "cells": [
  {
   "cell_type": "code",
   "id": "initial_id",
   "metadata": {
    "collapsed": true,
    "ExecuteTime": {
     "end_time": "2025-04-12T18:33:08.124305Z",
     "start_time": "2025-04-12T18:33:08.038418Z"
    }
   },
   "source": [
    "import polars as pl\n",
    "from src.dog_data_analysis import normalize_breed_names, licenses_by_breed, extract_unique_breeds, get_top_names, \\\n",
    "    get_licenses_by_date_range\n",
    "\n",
    "bronze_data_path:str = './data/bronze/2017.csv'\n",
    "silver_data_path:str = './data/silver/2017.csv'\n",
    "\n",
    "# Load lazy CSV data\n",
    "bronze_dog_data:pl.LazyFrame = pl.scan_csv(bronze_data_path, separator=',', has_header=True)\n",
    "silver_dog_data:pl.LazyFrame = pl.scan_csv(silver_data_path, separator=',', has_header=True)\n",
    "print(bronze_dog_data.head(2))"
   ],
   "outputs": [
    {
     "name": "stdout",
     "output_type": "stream",
     "text": [
      "naive plan: (run LazyFrame.explain(optimized=True) to see the optimized plan)\n",
      "\n",
      "SLICE[offset: 0, len: 2]\n",
      "  Csv SCAN [./data/bronze/2017.csv]\n",
      "  PROJECT */7 COLUMNS\n"
     ]
    }
   ],
   "execution_count": 1
  },
  {
   "metadata": {
    "ExecuteTime": {
     "end_time": "2025-04-12T18:33:08.146826Z",
     "start_time": "2025-04-12T18:33:08.128998Z"
    }
   },
   "cell_type": "code",
   "source": [
    "# Part 1: Normalize Breeds \n",
    "normalized_data = normalize_breed_names(bronze_dog_data)\n",
    "normalized_data.write_csv(silver_data_path, include_header=True)\n",
    "print(\"Normalized Data:\", normalized_data.head(2))"
   ],
   "id": "110980d29c6b6263",
   "outputs": [
    {
     "name": "stdout",
     "output_type": "stream",
     "text": [
      "Normalized Data: shape: (2, 8)\n",
      "┌─────────────┬─────────────┬─────────────┬─────────┬──────────┬─────────┬────────────┬────────────┐\n",
      "│ LicenseType ┆ Breed       ┆ Color       ┆ DogName ┆ OwnerZip ┆ ExpYear ┆ ValidDate  ┆ Normalized │\n",
      "│ ---         ┆ ---         ┆ ---         ┆ ---     ┆ ---      ┆ ---     ┆ ---        ┆ Breed      │\n",
      "│ str         ┆ str         ┆ str         ┆ str     ┆ i64      ┆ i64     ┆ str        ┆ ---        │\n",
      "│             ┆             ┆             ┆         ┆          ┆         ┆            ┆ str        │\n",
      "╞═════════════╪═════════════╪═════════════╪═════════╪══════════╪═════════╪════════════╪════════════╡\n",
      "│ Dog         ┆ BICHON      ┆ WHITE       ┆ CHLOE   ┆ 15090    ┆ 2017    ┆ 12/15/2016 ┆ bichonfris │\n",
      "│ Individual  ┆ FRISE       ┆             ┆         ┆          ┆         ┆ 9:58       ┆ e          │\n",
      "│ Spayed      ┆             ┆             ┆         ┆          ┆         ┆            ┆            │\n",
      "│ Female      ┆             ┆             ┆         ┆          ┆         ┆            ┆            │\n",
      "│ Dog Senior  ┆ CHIHUAHUA   ┆ WHITE/BLACK ┆ CHALUPA ┆ 15120    ┆ 2017    ┆ 3/23/2017  ┆ chihuahua  │\n",
      "│ Citizen or  ┆             ┆ /BROWN      ┆         ┆          ┆         ┆ 14:32      ┆            │\n",
      "│ Disabili…   ┆             ┆             ┆         ┆          ┆         ┆            ┆            │\n",
      "└─────────────┴─────────────┴─────────────┴─────────┴──────────┴─────────┴────────────┴────────────┘\n"
     ]
    }
   ],
   "execution_count": 2
  },
  {
   "metadata": {
    "ExecuteTime": {
     "end_time": "2025-04-12T18:33:08.273443Z",
     "start_time": "2025-04-12T18:33:08.270013Z"
    }
   },
   "cell_type": "code",
   "source": [
    "# Find Unique Breeds\n",
    "unique_breeds = extract_unique_breeds(normalized_data)\n",
    "print(\"Unique Breeds (SQL):\", unique_breeds)\n",
    "unique_breeds.write_csv(\"./data/silver/unique_breeds.csv\", include_header=True)"
   ],
   "id": "a54cfa63f66ede2e",
   "outputs": [
    {
     "name": "stdout",
     "output_type": "stream",
     "text": [
      "Unique Breeds (SQL): shape: (265, 1)\n",
      "┌───────────────────┐\n",
      "│ NormalizedBreed   │\n",
      "│ ---               │\n",
      "│ str               │\n",
      "╞═══════════════════╡\n",
      "│ bichonfrise       │\n",
      "│ chihuahua         │\n",
      "│ labmix            │\n",
      "│ dachshund         │\n",
      "│ terrier           │\n",
      "│ …                 │\n",
      "│ boerboel          │\n",
      "│ pumi              │\n",
      "│ amblack&tancoonho │\n",
      "│ carolinadog       │\n",
      "│ jindo             │\n",
      "└───────────────────┘\n"
     ]
    }
   ],
   "execution_count": 3
  },
  {
   "metadata": {
    "ExecuteTime": {
     "end_time": "2025-04-12T18:33:08.342974Z",
     "start_time": "2025-04-12T18:33:08.336167Z"
    }
   },
   "cell_type": "code",
   "source": [
    "# Part 2: Counting Licenses by License Type\n",
    "license_counts = licenses_by_breed(silver_dog_data)\n",
    "print(\"License Counts by License Type and Breed (SQL):\\n\", license_counts)"
   ],
   "id": "4ab45041e329ec",
   "outputs": [
    {
     "name": "stdout",
     "output_type": "stream",
     "text": [
      "License Counts by License Type and Breed (SQL):\n",
      " shape: (1_332, 3)\n",
      "┌─────────────────────┬─────────────────────────────────┬──────────────┐\n",
      "│ Breed               ┆ LicenseType                     ┆ LicenseCount │\n",
      "│ ---                 ┆ ---                             ┆ ---          │\n",
      "│ str                 ┆ str                             ┆ u32          │\n",
      "╞═════════════════════╪═════════════════════════════════╪══════════════╡\n",
      "│ MIXED               ┆ Dog Individual Spayed Female    ┆ 726          │\n",
      "│ MIXED               ┆ Dog Individual Neutered Male    ┆ 666          │\n",
      "│ LABRADOR RETRIEVER  ┆ Dog Individual Spayed Female    ┆ 445          │\n",
      "│ LAB MIX             ┆ Dog Individual Spayed Female    ┆ 436          │\n",
      "│ LAB MIX             ┆ Dog Individual Neutered Male    ┆ 423          │\n",
      "│ …                   ┆ …                               ┆ …            │\n",
      "│ WIREHAIR PT GRIFFON ┆ Dog Senior Citizen or Disabili… ┆ 1            │\n",
      "│ GER SHEPHERD MIX    ┆ Dog Inter County Transfer - Se… ┆ 1            │\n",
      "│ ENGLISH MASTIFF     ┆ Dog Senior Citizen or Disabili… ┆ 1            │\n",
      "│ BLACKMOUTH CUR      ┆ Dog Individual Spayed Female    ┆ 1            │\n",
      "│ DUTCH SHEPHERD      ┆ Dog Individual Spayed Female    ┆ 1            │\n",
      "└─────────────────────┴─────────────────────────────────┴──────────────┘\n"
     ]
    }
   ],
   "execution_count": 4
  },
  {
   "metadata": {
    "ExecuteTime": {
     "end_time": "2025-04-12T18:33:08.392776Z",
     "start_time": "2025-04-12T18:33:08.387955Z"
    }
   },
   "cell_type": "code",
   "source": [
    "top_names = get_top_names(silver_dog_data, 5),\n",
    "print(\"License Counts by License Type and Breed (SQL):\\n\", top_names)"
   ],
   "id": "50a69c2ca9bfc8b6",
   "outputs": [
    {
     "name": "stdout",
     "output_type": "stream",
     "text": [
      "License Counts by License Type and Breed (SQL):\n",
      " (shape: (5, 2)\n",
      "┌─────────┬────────────┐\n",
      "│ DogName ┆ name_count │\n",
      "│ ---     ┆ ---        │\n",
      "│ str     ┆ u32        │\n",
      "╞═════════╪════════════╡\n",
      "│ BELLA   ┆ 342        │\n",
      "│ BUDDY   ┆ 257        │\n",
      "│ MAX     ┆ 209        │\n",
      "│ BAILEY  ┆ 203        │\n",
      "│ LUCY    ┆ 189        │\n",
      "└─────────┴────────────┘,)\n"
     ]
    }
   ],
   "execution_count": 5
  },
  {
   "metadata": {
    "ExecuteTime": {
     "end_time": "2025-04-12T18:34:20.134059Z",
     "start_time": "2025-04-12T18:34:20.096057Z"
    }
   },
   "cell_type": "code",
   "source": [
    "start_date = \"2016-01-01\"\n",
    "end_date = \"2016-12-31\"\n",
    "licenses = get_licenses_by_date_range(silver_dog_data, start_date, end_date)\n",
    "print(\"Licenses in range of ValidDate:\\n\", licenses.head(5))"
   ],
   "id": "ccbcca3cd3b01f03",
   "outputs": [
    {
     "name": "stdout",
     "output_type": "stream",
     "text": [
      "Licenses in range of ValidDate:\n",
      " shape: (5, 9)\n",
      "┌────────────┬────────────┬────────────┬─────────┬───┬─────────┬───────────┬───────────┬───────────┐\n",
      "│ LicenseTyp ┆ Breed      ┆ Color      ┆ DogName ┆ … ┆ ExpYear ┆ ValidDate ┆ Normalize ┆ ParsedDat │\n",
      "│ e          ┆ ---        ┆ ---        ┆ ---     ┆   ┆ ---     ┆ ---       ┆ dBreed    ┆ e         │\n",
      "│ ---        ┆ str        ┆ str        ┆ str     ┆   ┆ i64     ┆ str       ┆ ---       ┆ ---       │\n",
      "│ str        ┆            ┆            ┆         ┆   ┆         ┆           ┆ str       ┆ datetime[ │\n",
      "│            ┆            ┆            ┆         ┆   ┆         ┆           ┆           ┆ μs]       │\n",
      "╞════════════╪════════════╪════════════╪═════════╪═══╪═════════╪═══════════╪═══════════╪═══════════╡\n",
      "│ Dog        ┆ COCKAPOO   ┆ BROWN      ┆ CHARLEY ┆ … ┆ 2017    ┆ 11/30/201 ┆ cockapoo  ┆ 2016-11-3 │\n",
      "│ Individual ┆            ┆            ┆         ┆   ┆         ┆ 6 8:50    ┆           ┆ 0         │\n",
      "│ Neutered   ┆            ┆            ┆         ┆   ┆         ┆           ┆           ┆ 08:50:00  │\n",
      "│ Male       ┆            ┆            ┆         ┆   ┆         ┆           ┆           ┆           │\n",
      "│ Dog Senior ┆ GER        ┆ BLACK/BROW ┆ TACODA  ┆ … ┆ 2017    ┆ 11/30/201 ┆ gershephe ┆ 2016-11-3 │\n",
      "│ Citizen or ┆ SHEPHERD   ┆ N          ┆         ┆   ┆         ┆ 6 8:51    ┆ rd        ┆ 0         │\n",
      "│ Disabili…  ┆            ┆            ┆         ┆   ┆         ┆           ┆           ┆ 08:51:00  │\n",
      "│ Dog Senior ┆ BEAGLE     ┆ SPOTTED    ┆ COOKIE  ┆ … ┆ 2017    ┆ 11/30/201 ┆ beagle    ┆ 2016-11-3 │\n",
      "│ Citizen or ┆            ┆            ┆         ┆   ┆         ┆ 6 8:52    ┆           ┆ 0         │\n",
      "│ Disabili…  ┆            ┆            ┆         ┆   ┆         ┆           ┆           ┆ 08:52:00  │\n",
      "│ Dog Senior ┆ DACHSHUND  ┆ BLACK/BROW ┆ NOEL    ┆ … ┆ 2017    ┆ 11/30/201 ┆ dachshund ┆ 2016-11-3 │\n",
      "│ Citizen or ┆ MIX        ┆ N          ┆         ┆   ┆         ┆ 6 8:52    ┆ mix       ┆ 0         │\n",
      "│ Disabili…  ┆            ┆            ┆         ┆   ┆         ┆           ┆           ┆ 08:52:00  │\n",
      "│ Dog        ┆ BLOODHOUND ┆ BROWN      ┆ RANGER  ┆ … ┆ 2017    ┆ 11/30/201 ┆ bloodhoun ┆ 2016-11-3 │\n",
      "│ Individual ┆            ┆            ┆         ┆   ┆         ┆ 6 8:53    ┆ d         ┆ 0         │\n",
      "│ License -  ┆            ┆            ┆         ┆   ┆         ┆           ┆           ┆ 08:53:00  │\n",
      "│ FREE       ┆            ┆            ┆         ┆   ┆         ┆           ┆           ┆           │\n",
      "└────────────┴────────────┴────────────┴─────────┴───┴─────────┴───────────┴───────────┴───────────┘\n"
     ]
    }
   ],
   "execution_count": 7
  }
 ],
 "metadata": {
  "kernelspec": {
   "display_name": "Python 3",
   "language": "python",
   "name": "python3"
  },
  "language_info": {
   "codemirror_mode": {
    "name": "ipython",
    "version": 2
   },
   "file_extension": ".py",
   "mimetype": "text/x-python",
   "name": "python",
   "nbconvert_exporter": "python",
   "pygments_lexer": "ipython2",
   "version": "2.7.6"
  }
 },
 "nbformat": 4,
 "nbformat_minor": 5
}
