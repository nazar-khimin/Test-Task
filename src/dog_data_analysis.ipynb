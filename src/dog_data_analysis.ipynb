{
 "cells": [
  {
   "cell_type": "code",
   "id": "initial_id",
   "metadata": {
    "collapsed": true,
    "ExecuteTime": {
     "end_time": "2025-04-12T13:59:29.070207Z",
     "start_time": "2025-04-12T13:59:28.980061Z"
    }
   },
   "source": [
    "import polars as pl\n",
    "from polars import DataFrame\n",
    "\n",
    "from src.dog_data_analysis import normalize_breed_names, licenses_by_breed, extract_unique_breeds\n",
    "\n",
    "bronze_data_path:str = './data/bronze/2017.csv'\n",
    "silver_data_path:str = './data/silver/2017.csv'\n",
    "\n",
    "# Load lazy CSV data\n",
    "bronze_dog_data:pl.LazyFrame = pl.scan_csv(bronze_data_path, separator=',', has_header=True)\n",
    "silver_dog_data:pl.LazyFrame = pl.scan_csv(silver_data_path, separator=',', has_header=True)\n",
    "print(bronze_dog_data.head(2))"
   ],
   "outputs": [
    {
     "name": "stdout",
     "output_type": "stream",
     "text": [
      "naive plan: (run LazyFrame.explain(optimized=True) to see the optimized plan)\n",
      "\n",
      "SLICE[offset: 0, len: 2]\n",
      "  Csv SCAN [./data/bronze/2017.csv]\n",
      "  PROJECT */7 COLUMNS\n"
     ]
    }
   ],
   "execution_count": 1
  },
  {
   "metadata": {
    "ExecuteTime": {
     "end_time": "2025-04-12T13:59:29.160134Z",
     "start_time": "2025-04-12T13:59:29.137792Z"
    }
   },
   "cell_type": "code",
   "source": [
    "# Part 1: Normalize Breeds \n",
    "normalized_data = normalize_breed_names(bronze_dog_data)\n",
    "normalized_data.write_csv(silver_data_path, include_header=True)\n",
    "print(\"Normalized Data:\", normalized_data)"
   ],
   "id": "110980d29c6b6263",
   "outputs": [
    {
     "name": "stdout",
     "output_type": "stream",
     "text": [
      "Normalized Data: shape: (21_727, 8)\n",
      "┌────────────┬────────────┬────────────┬────────────┬──────────┬─────────┬────────────┬────────────┐\n",
      "│ LicenseTyp ┆ Breed      ┆ Color      ┆ DogName    ┆ OwnerZip ┆ ExpYear ┆ ValidDate  ┆ normalized │\n",
      "│ e          ┆ ---        ┆ ---        ┆ ---        ┆ ---      ┆ ---     ┆ ---        ┆ _breed     │\n",
      "│ ---        ┆ str        ┆ str        ┆ str        ┆ i64      ┆ i64     ┆ str        ┆ ---        │\n",
      "│ str        ┆            ┆            ┆            ┆          ┆         ┆            ┆ str        │\n",
      "╞════════════╪════════════╪════════════╪════════════╪══════════╪═════════╪════════════╪════════════╡\n",
      "│ Dog        ┆ BICHON     ┆ WHITE      ┆ CHLOE      ┆ 15090    ┆ 2017    ┆ 12/15/2016 ┆ bichon     │\n",
      "│ Individual ┆ FRISE      ┆            ┆            ┆          ┆         ┆ 9:58       ┆ frise      │\n",
      "│ Spayed     ┆            ┆            ┆            ┆          ┆         ┆            ┆            │\n",
      "│ Female     ┆            ┆            ┆            ┆          ┆         ┆            ┆            │\n",
      "│ Dog Senior ┆ CHIHUAHUA  ┆ WHITE/BLAC ┆ CHALUPA    ┆ 15120    ┆ 2017    ┆ 3/23/2017  ┆ chihuahua  │\n",
      "│ Citizen or ┆            ┆ K/BROWN    ┆            ┆          ┆         ┆ 14:32      ┆            │\n",
      "│ Disabili…  ┆            ┆            ┆            ┆          ┆         ┆            ┆            │\n",
      "│ Dog        ┆ LAB MIX    ┆ YELLOW     ┆ MIA        ┆ 15133    ┆ 2017    ┆ 2/28/2017  ┆ lab mix    │\n",
      "│ Individual ┆            ┆            ┆            ┆          ┆         ┆ 10:59      ┆            │\n",
      "│ Spayed     ┆            ┆            ┆            ┆          ┆         ┆            ┆            │\n",
      "│ Female     ┆            ┆            ┆            ┆          ┆         ┆            ┆            │\n",
      "│ Dog        ┆ DACHSHUND  ┆ BLACK/BROW ┆ CODY       ┆ 15108    ┆ 2017    ┆ 2/9/2017   ┆ dachshund  │\n",
      "│ Individual ┆            ┆ N/GREY     ┆            ┆          ┆         ┆ 13:40      ┆            │\n",
      "│ Male       ┆            ┆            ┆            ┆          ┆         ┆            ┆            │\n",
      "│ Dog        ┆ DACHSHUND  ┆ BLACK      ┆ SOPHIE     ┆ 15108    ┆ 2017    ┆ 2/9/2017   ┆ dachshund  │\n",
      "│ Individual ┆            ┆            ┆            ┆          ┆         ┆ 13:40      ┆            │\n",
      "│ Spayed     ┆            ┆            ┆            ┆          ┆         ┆            ┆            │\n",
      "│ Female     ┆            ┆            ┆            ┆          ┆         ┆            ┆            │\n",
      "│ …          ┆ …          ┆ …          ┆ …          ┆ …        ┆ …       ┆ …          ┆ …          │\n",
      "│ Dog        ┆ BOXER      ┆ BRINDLE    ┆ RUBY       ┆ 15116    ┆ 2017    ┆ 3/27/2017  ┆ boxer      │\n",
      "│ Individual ┆            ┆            ┆            ┆          ┆         ┆ 14:47      ┆            │\n",
      "│ Female     ┆            ┆            ┆            ┆          ┆         ┆            ┆            │\n",
      "│ Dog        ┆ MIXED      ┆ WHITE/BLAC ┆ STELLALUNA ┆ 15216    ┆ 2017    ┆ 3/27/2017  ┆ mixed      │\n",
      "│ Individual ┆            ┆ K          ┆            ┆          ┆         ┆ 14:53      ┆            │\n",
      "│ Spayed     ┆            ┆            ┆            ┆          ┆         ┆            ┆            │\n",
      "│ Female     ┆            ┆            ┆            ┆          ┆         ┆            ┆            │\n",
      "│ Dog        ┆ LABRADOR   ┆ BLACK      ┆ JAXXON     ┆ 15112    ┆ 2017    ┆ 3/27/2017  ┆ labrador   │\n",
      "│ Individual ┆ RETRIEVER  ┆            ┆            ┆          ┆         ┆ 14:53      ┆ retriever  │\n",
      "│ Male       ┆            ┆            ┆            ┆          ┆         ┆            ┆            │\n",
      "│ Dog        ┆ GER        ┆ BLACK/TAN  ┆ BONNIE     ┆ 15202    ┆ 2017    ┆ 3/28/2017  ┆ ger        │\n",
      "│ Individual ┆ SHEPHERD   ┆            ┆            ┆          ┆         ┆ 8:45       ┆ shepherd   │\n",
      "│ Female     ┆            ┆            ┆            ┆          ┆         ┆            ┆            │\n",
      "│ Dog Senior ┆ CHIHUAHUA  ┆ BLACK      ┆ DOZER      ┆ 15210    ┆ 2017    ┆ 3/28/2017  ┆ chihuahua  │\n",
      "│ Citizen or ┆            ┆            ┆            ┆          ┆         ┆ 8:45       ┆            │\n",
      "│ Disabili…  ┆            ┆            ┆            ┆          ┆         ┆            ┆            │\n",
      "└────────────┴────────────┴────────────┴────────────┴──────────┴─────────┴────────────┴────────────┘\n"
     ]
    }
   ],
   "execution_count": 2
  },
  {
   "metadata": {
    "ExecuteTime": {
     "end_time": "2025-04-12T15:58:12.664228Z",
     "start_time": "2025-04-12T15:58:12.642924Z"
    }
   },
   "cell_type": "code",
   "source": [
    "# Find Unique Breeds\n",
    "unique_breeds = extract_unique_breeds(normalized_data)\n",
    "print(\"Unique Breeds (SQL):\", unique_breeds)\n",
    "unique_breeds.write_csv(\"./data/silver/unique_breeds.csv\", include_header=True)"
   ],
   "id": "a54cfa63f66ede2e",
   "outputs": [
    {
     "name": "stdout",
     "output_type": "stream",
     "text": [
      "Unique Breeds (SQL): shape: (265, 1)\n",
      "┌─────────────────────┐\n",
      "│ normalized_breed    │\n",
      "│ ---                 │\n",
      "│ str                 │\n",
      "╞═════════════════════╡\n",
      "│ bichon frise        │\n",
      "│ chihuahua           │\n",
      "│ lab mix             │\n",
      "│ dachshund           │\n",
      "│ terrier             │\n",
      "│ …                   │\n",
      "│ boerboel            │\n",
      "│ pumi                │\n",
      "│ am black&tan coonho │\n",
      "│ carolina dog        │\n",
      "│ jindo               │\n",
      "└─────────────────────┘\n"
     ]
    }
   ],
   "execution_count": 6
  },
  {
   "metadata": {
    "ExecuteTime": {
     "end_time": "2025-04-12T13:59:29.522766Z",
     "start_time": "2025-04-12T13:59:29.323761Z"
    }
   },
   "cell_type": "code",
   "source": [
    "# Part 2: Counting Licenses by License Type\n",
    "license_counts = licenses_by_breed(silver_dog_data)\n",
    "print(\"License Counts by License Type and Breed (SQL):\\n\", license_counts)"
   ],
   "id": "4ab45041e329ec",
   "outputs": [
    {
     "ename": "ColumnNotFoundError",
     "evalue": "Breed\n\nResolved plan until failure:\n\n\t---> FAILED HERE RESOLVING 'select' <---\nAGGREGATE\n  [len().alias(\"license_count\")] BY [col(\"LicenseType\"), col(\"normalized_breed\")]\n  FROM\n  Csv SCAN [./data/silver/2017.csv]\n  PROJECT */8 COLUMNS",
     "output_type": "error",
     "traceback": [
      "\u001B[31m---------------------------------------------------------------------------\u001B[39m",
      "\u001B[31mColumnNotFoundError\u001B[39m                       Traceback (most recent call last)",
      "\u001B[36mCell\u001B[39m\u001B[36m \u001B[39m\u001B[32mIn[4]\u001B[39m\u001B[32m, line 2\u001B[39m\n\u001B[32m      1\u001B[39m \u001B[38;5;66;03m# Part 2: Counting Licenses by License Type\u001B[39;00m\n\u001B[32m----> \u001B[39m\u001B[32m2\u001B[39m license_counts = \u001B[43mlicenses_by_breed\u001B[49m\u001B[43m(\u001B[49m\u001B[43msilver_dog_data\u001B[49m\u001B[43m)\u001B[49m\n\u001B[32m      3\u001B[39m \u001B[38;5;28mprint\u001B[39m(\u001B[33m\"\u001B[39m\u001B[33mLicense Counts by License Type and Breed (SQL):\u001B[39m\u001B[38;5;130;01m\\n\u001B[39;00m\u001B[33m\"\u001B[39m, license_counts)\n",
      "\u001B[36mFile \u001B[39m\u001B[32m~/PycharmProjects/Test-Tasks/src/dog_data_analysis.py:34\u001B[39m, in \u001B[36mlicenses_by_breed\u001B[39m\u001B[34m(data)\u001B[39m\n\u001B[32m     26\u001B[39m \u001B[38;5;250m\u001B[39m\u001B[33;03m\"\"\"\u001B[39;00m\n\u001B[32m     27\u001B[39m \u001B[33;03mCounts licenses by LicenseType for each breed using SQL-like operations.\u001B[39;00m\n\u001B[32m     28\u001B[39m \u001B[33;03m\"\"\"\u001B[39;00m\n\u001B[32m     29\u001B[39m query = \u001B[33m\"\"\"\u001B[39m\n\u001B[32m     30\u001B[39m \u001B[33m    SELECT LicenseType, LOWER(TRIM(Breed)) AS normalized_breed, COUNT(*) AS license_count\u001B[39m\n\u001B[32m     31\u001B[39m \u001B[33m    FROM self\u001B[39m\n\u001B[32m     32\u001B[39m \u001B[33m    GROUP BY LicenseType, normalized_breed\u001B[39m\n\u001B[32m     33\u001B[39m \u001B[33m\u001B[39m\u001B[33m\"\"\"\u001B[39m\n\u001B[32m---> \u001B[39m\u001B[32m34\u001B[39m result = \u001B[43mdata\u001B[49m\u001B[43m.\u001B[49m\u001B[43msql\u001B[49m\u001B[43m(\u001B[49m\u001B[43mquery\u001B[49m\u001B[43m)\u001B[49m.collect()\n\u001B[32m     35\u001B[39m \u001B[38;5;28;01mreturn\u001B[39;00m result\n",
      "\u001B[36mFile \u001B[39m\u001B[32m/opt/homebrew/anaconda3/envs/3.12/lib/python3.12/site-packages/polars/lazyframe/frame.py:1588\u001B[39m, in \u001B[36mLazyFrame.sql\u001B[39m\u001B[34m(self, query, table_name)\u001B[39m\n\u001B[32m   1586\u001B[39m name = table_name \u001B[38;5;28;01mif\u001B[39;00m table_name \u001B[38;5;28;01melse\u001B[39;00m \u001B[33m\"\u001B[39m\u001B[33mself\u001B[39m\u001B[33m\"\u001B[39m\n\u001B[32m   1587\u001B[39m ctx.register(name=name, frame=\u001B[38;5;28mself\u001B[39m)\n\u001B[32m-> \u001B[39m\u001B[32m1588\u001B[39m \u001B[38;5;28;01mreturn\u001B[39;00m \u001B[43mctx\u001B[49m\u001B[43m.\u001B[49m\u001B[43mexecute\u001B[49m\u001B[43m(\u001B[49m\u001B[43mquery\u001B[49m\u001B[43m)\u001B[49m\n",
      "\u001B[36mFile \u001B[39m\u001B[32m/opt/homebrew/anaconda3/envs/3.12/lib/python3.12/site-packages/polars/sql/context.py:437\u001B[39m, in \u001B[36mSQLContext.execute\u001B[39m\u001B[34m(self, query, eager)\u001B[39m\n\u001B[32m    356\u001B[39m \u001B[38;5;28;01mdef\u001B[39;00m\u001B[38;5;250m \u001B[39m\u001B[34mexecute\u001B[39m(\n\u001B[32m    357\u001B[39m     \u001B[38;5;28mself\u001B[39m, query: \u001B[38;5;28mstr\u001B[39m, *, eager: \u001B[38;5;28mbool\u001B[39m | \u001B[38;5;28;01mNone\u001B[39;00m = \u001B[38;5;28;01mNone\u001B[39;00m\n\u001B[32m    358\u001B[39m ) -> LazyFrame | DataFrame:\n\u001B[32m    359\u001B[39m \u001B[38;5;250m    \u001B[39m\u001B[33;03m\"\"\"\u001B[39;00m\n\u001B[32m    360\u001B[39m \u001B[33;03m    Parse the given SQL query and execute it against the registered frame data.\u001B[39;00m\n\u001B[32m    361\u001B[39m \n\u001B[32m   (...)\u001B[39m\u001B[32m    435\u001B[39m \u001B[33;03m    └────────┴─────────────┴─────────┘\u001B[39;00m\n\u001B[32m    436\u001B[39m \u001B[33;03m    \"\"\"\u001B[39;00m\n\u001B[32m--> \u001B[39m\u001B[32m437\u001B[39m     res = wrap_ldf(\u001B[38;5;28;43mself\u001B[39;49m\u001B[43m.\u001B[49m\u001B[43m_ctxt\u001B[49m\u001B[43m.\u001B[49m\u001B[43mexecute\u001B[49m\u001B[43m(\u001B[49m\u001B[43mquery\u001B[49m\u001B[43m)\u001B[49m)\n\u001B[32m    438\u001B[39m     \u001B[38;5;28;01mreturn\u001B[39;00m res.collect() \u001B[38;5;28;01mif\u001B[39;00m (eager \u001B[38;5;129;01mor\u001B[39;00m \u001B[38;5;28mself\u001B[39m._eager_execution) \u001B[38;5;28;01melse\u001B[39;00m res\n",
      "\u001B[31mColumnNotFoundError\u001B[39m: Breed\n\nResolved plan until failure:\n\n\t---> FAILED HERE RESOLVING 'select' <---\nAGGREGATE\n  [len().alias(\"license_count\")] BY [col(\"LicenseType\"), col(\"normalized_breed\")]\n  FROM\n  Csv SCAN [./data/silver/2017.csv]\n  PROJECT */8 COLUMNS"
     ]
    }
   ],
   "execution_count": 4
  },
  {
   "metadata": {},
   "cell_type": "code",
   "source": "",
   "id": "50a69c2ca9bfc8b6",
   "outputs": [],
   "execution_count": null
  }
 ],
 "metadata": {
  "kernelspec": {
   "display_name": "Python 3",
   "language": "python",
   "name": "python3"
  },
  "language_info": {
   "codemirror_mode": {
    "name": "ipython",
    "version": 2
   },
   "file_extension": ".py",
   "mimetype": "text/x-python",
   "name": "python",
   "nbconvert_exporter": "python",
   "pygments_lexer": "ipython2",
   "version": "2.7.6"
  }
 },
 "nbformat": 4,
 "nbformat_minor": 5
}
