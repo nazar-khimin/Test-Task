{
 "cells": [
  {
   "cell_type": "code",
   "id": "initial_id",
   "metadata": {
    "collapsed": true,
    "ExecuteTime": {
     "end_time": "2025-04-12T22:25:38.081756Z",
     "start_time": "2025-04-12T22:25:37.457591Z"
    }
   },
   "source": [
    "import pandas as pd\n",
    "\n",
    "from task2.services.transformations.employees_transformations import transform_csv_data\n",
    "from task2.utls.logger_config import logger\n",
    "from task2.models.base import Base, engine\n",
    "from task2.services.schema.schema_definitions import EMPLOYEE_SCHEMA, EMPLOYEE_RANGE_SCHEMA\n",
    "from task2.services.schema.schema_validation import SchemaValidation\n",
    "\n",
    "# Create all tables in the database\n",
    "Base.metadata.create_all(engine)\n",
    "print(\"Database tables created successfully!\")"
   ],
   "outputs": [
    {
     "name": "stdout",
     "output_type": "stream",
     "text": [
      "2025-04-13 01:25:38,077 INFO sqlalchemy.engine.Engine BEGIN (implicit)\n",
      "01:25:38 INFO: BEGIN (implicit)\n",
      "2025-04-13 01:25:38,077 INFO sqlalchemy.engine.Engine PRAGMA main.table_info(\"departments\")\n",
      "01:25:38 INFO: PRAGMA main.table_info(\"departments\")\n",
      "2025-04-13 01:25:38,078 INFO sqlalchemy.engine.Engine [raw sql] ()\n",
      "01:25:38 INFO: [raw sql] ()\n",
      "2025-04-13 01:25:38,079 INFO sqlalchemy.engine.Engine PRAGMA main.table_info(\"employees\")\n",
      "01:25:38 INFO: PRAGMA main.table_info(\"employees\")\n",
      "2025-04-13 01:25:38,079 INFO sqlalchemy.engine.Engine [raw sql] ()\n",
      "01:25:38 INFO: [raw sql] ()\n",
      "2025-04-13 01:25:38,080 INFO sqlalchemy.engine.Engine COMMIT\n",
      "01:25:38 INFO: COMMIT\n",
      "Database tables created successfully!\n"
     ]
    }
   ],
   "execution_count": 1
  },
  {
   "metadata": {
    "ExecuteTime": {
     "end_time": "2025-04-12T22:29:20.771641Z",
     "start_time": "2025-04-12T22:29:20.763240Z"
    }
   },
   "cell_type": "code",
   "source": [
    "# Validate Schema\n",
    "logger.info(\"Starting transformation: first trim, then convert types\\n\")\n",
    "emp_df:pd.DataFrame =  pd.read_csv(\"./data/employees.csv\", delimiter=',', header=0)\n",
    "\n",
    "# Apply the transformation: first trim, then convert types.\n",
    "transformed_emp_df = transform_csv_data(emp_df, EMPLOYEE_SCHEMA)\n",
    "print(transformed_emp_df.head(1))"
   ],
   "id": "571b3ac3b810442d",
   "outputs": [
    {
     "name": "stdout",
     "output_type": "stream",
     "text": [
      "01:29:20 INFO: Starting transformation: first trim, then convert types\n",
      "\n",
      "trim_string_values executed in 0.0007 seconds\n",
      "convert_data_types executed in 0.0012 seconds\n",
      "                                     id       name date_of_birth  salary  \\\n",
      "0  1dd3b13a-0b76-4468-b7c0-39ef57828315  James Lee    1973-09-15  145198   \n",
      "\n",
      "   department_id  \n",
      "0              8  \n"
     ]
    }
   ],
   "execution_count": 10
  },
  {
   "metadata": {
    "ExecuteTime": {
     "end_time": "2025-04-12T22:25:38.343011Z",
     "start_time": "2025-04-12T22:25:38.341523Z"
    }
   },
   "cell_type": "code",
   "source": "",
   "id": "6bca3e222ab20533",
   "outputs": [],
   "execution_count": null
  }
 ],
 "metadata": {
  "kernelspec": {
   "display_name": "Python 3",
   "language": "python",
   "name": "python3"
  },
  "language_info": {
   "codemirror_mode": {
    "name": "ipython",
    "version": 2
   },
   "file_extension": ".py",
   "mimetype": "text/x-python",
   "name": "python",
   "nbconvert_exporter": "python",
   "pygments_lexer": "ipython2",
   "version": "2.7.6"
  }
 },
 "nbformat": 4,
 "nbformat_minor": 5
}
