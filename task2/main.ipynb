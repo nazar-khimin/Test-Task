{
 "cells": [
  {
   "cell_type": "code",
   "id": "initial_id",
   "metadata": {
    "collapsed": true,
    "ExecuteTime": {
     "end_time": "2025-04-12T21:25:32.030436Z",
     "start_time": "2025-04-12T21:25:31.849769Z"
    }
   },
   "source": [
    "from task2.models.base import Base, engine\n",
    "\n",
    "# Create all tables in the database\n",
    "Base.metadata.create_all(engine)\n",
    "print(\"Database tables created successfully!\")"
   ],
   "outputs": [
    {
     "name": "stdout",
     "output_type": "stream",
     "text": [
      "2025-04-13 00:25:32,027 INFO sqlalchemy.engine.Engine BEGIN (implicit)\n",
      "2025-04-13 00:25:32,027 INFO sqlalchemy.engine.Engine PRAGMA main.table_info(\"departments\")\n",
      "2025-04-13 00:25:32,028 INFO sqlalchemy.engine.Engine [raw sql] ()\n",
      "2025-04-13 00:25:32,028 INFO sqlalchemy.engine.Engine PRAGMA main.table_info(\"employees\")\n",
      "2025-04-13 00:25:32,028 INFO sqlalchemy.engine.Engine [raw sql] ()\n",
      "2025-04-13 00:25:32,029 INFO sqlalchemy.engine.Engine COMMIT\n",
      "Database tables created successfully!\n"
     ]
    }
   ],
   "execution_count": 1
  },
  {
   "metadata": {
    "ExecuteTime": {
     "end_time": "2025-04-12T21:25:32.102164Z",
     "start_time": "2025-04-12T21:25:32.100548Z"
    }
   },
   "cell_type": "code",
   "source": "",
   "id": "571b3ac3b810442d",
   "outputs": [],
   "execution_count": null
  }
 ],
 "metadata": {
  "kernelspec": {
   "display_name": "Python 3",
   "language": "python",
   "name": "python3"
  },
  "language_info": {
   "codemirror_mode": {
    "name": "ipython",
    "version": 2
   },
   "file_extension": ".py",
   "mimetype": "text/x-python",
   "name": "python",
   "nbconvert_exporter": "python",
   "pygments_lexer": "ipython2",
   "version": "2.7.6"
  }
 },
 "nbformat": 4,
 "nbformat_minor": 5
}
